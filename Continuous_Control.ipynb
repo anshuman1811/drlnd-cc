{
 "cells": [
  {
   "cell_type": "markdown",
   "metadata": {},
   "source": [
    "# Continuous Control\n",
    "\n",
    "---\n",
    "\n",
    "In this notebook, you will learn how to use the Unity ML-Agents environment for the second project of the [Deep Reinforcement Learning Nanodegree](https://www.udacity.com/course/deep-reinforcement-learning-nanodegree--nd893) program.\n",
    "\n",
    "### 1. Start the Environment\n",
    "\n",
    "We begin by importing the necessary packages.  If the code cell below returns an error, please revisit the project instructions to double-check that you have installed [Unity ML-Agents](https://github.com/Unity-Technologies/ml-agents/blob/master/docs/Installation.md) and [NumPy](http://www.numpy.org/)."
   ]
  },
  {
   "cell_type": "code",
   "execution_count": 8,
   "metadata": {},
   "outputs": [
    {
     "name": "stdout",
     "output_type": "stream",
     "text": [
      "9.2\n",
      "Quadro M2000M\n",
      "cuda:0\n"
     ]
    }
   ],
   "source": [
    "from unityagents import UnityEnvironment\n",
    "import numpy as np\n",
    "import random\n",
    "import torch\n",
    "from collections import deque\n",
    "import matplotlib.pyplot as plt\n",
    "from agent import DDPGAgent\n",
    "import argparse, sys\n",
    "import time"
   ]
  },
  {
   "cell_type": "markdown",
   "metadata": {},
   "source": [
    "Next, we will start the environment!  **_Before running the code cell below_**, change the `file_name` parameter to match the location of the Unity environment that you downloaded.\n",
    "\n",
    "- **Mac**: `\"path/to/Reacher.app\"`\n",
    "- **Windows** (x86): `\"path/to/Reacher_Windows_x86/Reacher.exe\"`\n",
    "- **Windows** (x86_64): `\"path/to/Reacher_Windows_x86_64/Reacher.exe\"`\n",
    "- **Linux** (x86): `\"path/to/Reacher_Linux/Reacher.x86\"`\n",
    "- **Linux** (x86_64): `\"path/to/Reacher_Linux/Reacher.x86_64\"`\n",
    "- **Linux** (x86, headless): `\"path/to/Reacher_Linux_NoVis/Reacher.x86\"`\n",
    "- **Linux** (x86_64, headless): `\"path/to/Reacher_Linux_NoVis/Reacher.x86_64\"`\n",
    "\n",
    "For instance, if you are using a Mac, then you downloaded `Reacher.app`.  If this file is in the same folder as the notebook, then the line below should appear as follows:\n",
    "```\n",
    "env = UnityEnvironment(file_name=\"Reacher.app\")\n",
    "```"
   ]
  },
  {
   "cell_type": "code",
   "execution_count": 2,
   "metadata": {},
   "outputs": [
    {
     "name": "stderr",
     "output_type": "stream",
     "text": [
      "INFO:unityagents:\n",
      "'Academy' started successfully!\n",
      "Unity Academy name: Academy\n",
      "        Number of Brains: 1\n",
      "        Number of External Brains : 1\n",
      "        Lesson number : 0\n",
      "        Reset Parameters :\n",
      "\t\tgoal_speed -> 1.0\n",
      "\t\tgoal_size -> 5.0\n",
      "Unity brain name: ReacherBrain\n",
      "        Number of Visual Observations (per agent): 0\n",
      "        Vector Observation space type: continuous\n",
      "        Vector Observation space size (per agent): 33\n",
      "        Number of stacked Vector Observation: 1\n",
      "        Vector Action space type: continuous\n",
      "        Vector Action space size (per agent): 4\n",
      "        Vector Action descriptions: , , , \n"
     ]
    }
   ],
   "source": [
    "env = UnityEnvironment(file_name='C:/Users/anshmish/Desktop/Personal/Courses/DRLND/deep-reinforcement-learning/p2_continuous-control/Reacher_Windows_x86_64/Reacher_Windows_x86_64/Reacher.exe')"
   ]
  },
  {
   "cell_type": "markdown",
   "metadata": {},
   "source": [
    "Environments contain **_brains_** which are responsible for deciding the actions of their associated agents. Here we check for the first brain available, and set it as the default brain we will be controlling from Python."
   ]
  },
  {
   "cell_type": "code",
   "execution_count": 3,
   "metadata": {},
   "outputs": [],
   "source": [
    "# get the default brain\n",
    "brain_name = env.brain_names[0]\n",
    "brain = env.brains[brain_name]"
   ]
  },
  {
   "cell_type": "markdown",
   "metadata": {},
   "source": [
    "### 2. Examine the State and Action Spaces\n",
    "\n",
    "In this environment, a double-jointed arm can move to target locations. A reward of `+0.1` is provided for each step that the agent's hand is in the goal location. Thus, the goal of your agent is to maintain its position at the target location for as many time steps as possible.\n",
    "\n",
    "The observation space consists of `33` variables corresponding to position, rotation, velocity, and angular velocities of the arm.  Each action is a vector with four numbers, corresponding to torque applicable to two joints.  Every entry in the action vector must be a number between `-1` and `1`.\n",
    "\n",
    "Run the code cell below to print some information about the environment."
   ]
  },
  {
   "cell_type": "code",
   "execution_count": 11,
   "metadata": {},
   "outputs": [
    {
     "name": "stdout",
     "output_type": "stream",
     "text": [
      "Number of agents: 20\n",
      "Number of actions: 4\n",
      "States look like: [ 0.00000000e+00 -4.00000000e+00  0.00000000e+00  1.00000000e+00\n",
      " -0.00000000e+00 -0.00000000e+00 -4.37113883e-08  0.00000000e+00\n",
      "  0.00000000e+00  0.00000000e+00  0.00000000e+00  0.00000000e+00\n",
      "  0.00000000e+00  0.00000000e+00 -1.00000000e+01  0.00000000e+00\n",
      "  1.00000000e+00 -0.00000000e+00 -0.00000000e+00 -4.37113883e-08\n",
      "  0.00000000e+00  0.00000000e+00  0.00000000e+00  0.00000000e+00\n",
      "  0.00000000e+00  0.00000000e+00  7.90150833e+00 -1.00000000e+00\n",
      "  1.25147629e+00  0.00000000e+00  1.00000000e+00  0.00000000e+00\n",
      " -5.22214413e-01]\n",
      "States have length: 33\n"
     ]
    }
   ],
   "source": [
    "# get the default brain\n",
    "brain_name = env.brain_names[0]\n",
    "brain = env.brains[brain_name]\n",
    "\n",
    "# reset the environment\n",
    "env_info = env.reset(train_mode=True)[brain_name]\n",
    "\n",
    "# number of agents in the environment\n",
    "n_agents = len(env_info.agents)\n",
    "print('Number of agents:', len(env_info.agents))\n",
    "\n",
    "# number of actions\n",
    "action_size = brain.vector_action_space_size\n",
    "print('Number of actions:', action_size)\n",
    "\n",
    "# examine the state space \n",
    "state = env_info.vector_observations[0]\n",
    "print('States look like:', state)\n",
    "state_size = len(state)\n",
    "print('States have length:', state_size)"
   ]
  },
  {
   "cell_type": "markdown",
   "metadata": {},
   "source": [
    "### 3. Train the Agent"
   ]
  },
  {
   "cell_type": "code",
   "execution_count": 5,
   "metadata": {},
   "outputs": [],
   "source": [
    "def trainAgent(agent, n_episodes=400, timeout=1000, score_window_size=100, solution_score=30):\n",
    "    print('\\nTraining agent ')\n",
    "    scores = []                                                 # list containing scores from each episode\n",
    "    scores_window = deque(maxlen=score_window_size)             # last 'score_window_size' scores for candidate solution\n",
    "\n",
    "    for episode in range(n_episodes):\n",
    "        start_time = time.time()\n",
    "        env_info = env.reset(train_mode=True)[brain_name]       # reset the environment\n",
    "        states = env_info.vector_observations                   # get the current state(s)\n",
    "        ep_scores = np.zeros(n_agents)\n",
    "        agent.reset()\n",
    "\n",
    "        for t in range(timeout):\n",
    "            # t_start = time.time()\n",
    "            # Query agent for actions\n",
    "            actions = agent.act(states)\n",
    "\n",
    "            # t_agent_action = time.time()\n",
    "            env_info = env.step(actions)[brain_name]             # send the action to the environment and get feedback\n",
    "            # t_env_step = time.time()\n",
    "\n",
    "            next_states = env_info.vector_observations           # get the next state\n",
    "            rewards = env_info.rewards                           # get the reward\n",
    "            dones = env_info.local_done                          # see if episode has finished\n",
    "\n",
    "            # Move the agent a step\n",
    "            # t_env_obs = time.time()\n",
    "            agent.step(states, actions, rewards, next_states, dones)\n",
    "\n",
    "            ep_scores += np.array(rewards)                       # update the score(s)\n",
    "            states = next_states                                 # updates the state(s)\n",
    "\n",
    "            # t_end = time.time()\n",
    "\n",
    "            # print('\\rStep: {:d}\\tGet Action: {:.3f}\\tEnv Action: {:.3f}\\tAgent Step: {:.3f}\\tTotal: {:.3f}'.format(t,t_agent_action-t_start, t_env_step-t_agent_action, t_end-t_env_obs, t_end-t_start), end=\"\")\n",
    "\n",
    "            if np.any(dones):                                    # exit loop if any of the episodes finished\n",
    "                break\n",
    "        \n",
    "        # Cache the score(s)\n",
    "        # print(ep_scores)\n",
    "        scores.append(np.mean(ep_scores))\n",
    "        scores_window.append(np.mean(ep_scores))\n",
    "\n",
    "        episode_time = time.time()-start_time\n",
    "\n",
    "        # Print episode results\n",
    "        print('\\rEpisode {}\\ttime: {:.3f}\\tScore: {:.2f}\\tAverage Score: {:.2f}'.format(episode, episode_time, np.mean(ep_scores), np.mean(scores_window)), end=\"\")\n",
    "\n",
    "        # Print if solution score achieved\n",
    "        if np.mean(scores_window)>=solution_score:\n",
    "            print('\\nEnvironment solved in {:d} episodes!\\tAverage Score: {:.2f}\\n'.format(episode-100, np.mean(scores_window)))\n",
    "            torch.save(agent.actor.state_dict(), 'checkpoint_actor.pth')\n",
    "            torch.save(agent.critic.state_dict(), 'checkpoint_critic.pth')\n",
    "            break\n",
    "    \n",
    "    print(\"\\nTraining Completed!\")\n",
    "    return scores"
   ]
  },
  {
   "cell_type": "code",
   "execution_count": null,
   "metadata": {},
   "outputs": [],
   "source": [
    "agent = DDPGAgent(state_size=state_size, action_size=action_size, n_agents=n_agents, seed=48)\n",
    "scores = trainAgent (agent, n_episodes=1000)"
   ]
  },
  {
   "cell_type": "code",
   "execution_count": null,
   "metadata": {},
   "outputs": [],
   "source": [
    "def plotScores(scores):\n",
    "    # plot the scores\n",
    "    fig = plt.figure()\n",
    "    ax = fig.add_subplot(111)\n",
    "    plt.plot(np.arange(len(scores)), scores)\n",
    "    plt.ylabel('Score')\n",
    "    plt.xlabel('Episode #')\n",
    "    plt.show()\n",
    "\n",
    "plotScores(scores)"
   ]
  },
  {
   "cell_type": "markdown",
   "metadata": {},
   "source": [
    "### 4. Test the Agent"
   ]
  },
  {
   "cell_type": "code",
   "execution_count": 9,
   "metadata": {},
   "outputs": [],
   "source": [
    "def testAgent():\n",
    "    print(\"Testing the Agent\")\n",
    "    agent = DDPGAgent(state_size=state_size, action_size=action_size, n_agents=n_agents, seed=0, pretrainedWeightsFile='checkpoint_actor.pth', train = False)\n",
    "    env_info = env.reset(train_mode=False)[brain_name]      # reset the environment\n",
    "    states = env_info.vector_observations                   # get the current state\n",
    "    score = np.zeros(n_agents)                              # initialize the score\n",
    "    while True:\n",
    "        actions = agent.act(states)                         # select an action\n",
    "        env_info = env.step(actions)[brain_name]            # send the action to the environment\n",
    "        next_states = env_info.vector_observations          # get the next state\n",
    "        rewards = env_info.rewards                          # get the reward\n",
    "        dones = env_info.local_done                         # see if episode has finished\n",
    "        score += np.array(rewards)                          # update the score\n",
    "        states = next_states                                # roll over the state to next time step\n",
    "        if np.any(dones):                                   # exit loop if episode finished\n",
    "            break\n",
    "    print(\"Score: {}\".format(np.mean(score)))\n",
    "    return score"
   ]
  },
  {
   "cell_type": "code",
   "execution_count": 12,
   "metadata": {},
   "outputs": [
    {
     "name": "stdout",
     "output_type": "stream",
     "text": [
      "Testing the Agent\n",
      "Score: 34.91799921952188\n"
     ]
    },
    {
     "data": {
      "text/plain": [
       "array([38.85999913, 27.36999939, 39.44999912, 39.12999913, 32.39999928,\n",
       "       34.92999922, 33.46999925, 39.51999912, 38.80999913, 31.2999993 ,\n",
       "       31.67999929, 37.36999916, 34.55999923, 31.84999929, 33.56999925,\n",
       "       38.83999913, 33.64999925, 31.55999929, 39.61999911, 30.41999932])"
      ]
     },
     "execution_count": 12,
     "metadata": {},
     "output_type": "execute_result"
    }
   ],
   "source": [
    "testAgent()"
   ]
  },
  {
   "cell_type": "code",
   "execution_count": null,
   "metadata": {},
   "outputs": [],
   "source": []
  }
 ],
 "metadata": {
  "kernelspec": {
   "display_name": "Python 3",
   "language": "python",
   "name": "python3"
  },
  "language_info": {
   "codemirror_mode": {
    "name": "ipython",
    "version": 3
   },
   "file_extension": ".py",
   "mimetype": "text/x-python",
   "name": "python",
   "nbconvert_exporter": "python",
   "pygments_lexer": "ipython3",
   "version": "3.6.7"
  }
 },
 "nbformat": 4,
 "nbformat_minor": 2
}
